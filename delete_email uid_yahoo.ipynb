{
 "cells": [
  {
   "cell_type": "code",
   "execution_count": null,
   "metadata": {},
   "outputs": [],
   "source": [
    "# verified on 2/16/2025\n",
    "# format of pass.txt\n",
    "\"\"\"\n",
    "google:your_email@gmail.com:your_google_app_password\n",
    "yahoo:your_email@yahoo.com:your_yahoo_app_password\n",
    "\"\"\";"
   ]
  },
  {
   "cell_type": "code",
   "execution_count": null,
   "metadata": {},
   "outputs": [],
   "source": [
    "import imaplib\n",
    "import email\n",
    "from email.header import decode_header\n",
    "import pandas as pd\n",
    "import re\n",
    "\n",
    "# Yahoo IMAP settings\n",
    "IMAP_SERVER = 'imap.mail.yahoo.com'\n",
    "IMAP_PORT = 993\n",
    "# EMAIL = 'your_email@yahoo.com'\n",
    "# PASSWORD = 'your_app_password'\n",
    "\n",
    "with open('pass.txt') as fin:\n",
    "    strs=fin.readlines()\n",
    "for s in strs:\n",
    "    if s.split(\":\")[0]=='yahoo':\n",
    "        EMAIL=s.split(\":\")[1].strip()\n",
    "        PASSWORD=s.split(\":\")[-1].strip()\n",
    "# EMAIL,PASSWORD    "
   ]
  },
  {
   "cell_type": "code",
   "execution_count": null,
   "metadata": {},
   "outputs": [],
   "source": [
    "# Connect to the server\n",
    "mail = imaplib.IMAP4_SSL(IMAP_SERVER, IMAP_PORT)\n",
    "mail.login(EMAIL, PASSWORD)\n",
    "\n",
    "MAILBOX='INBOX'\n",
    "\n",
    "status, _ = mail.select(MAILBOX)\n",
    "if status != 'OK':\n",
    "    print(f\"Failed to select mailbox: {MAILBOX}\")"
   ]
  },
  {
   "cell_type": "code",
   "execution_count": null,
   "metadata": {},
   "outputs": [],
   "source": [
    "start_date = '01-Feb-2025'\n",
    "end_date = '02-Feb-2025'\n",
    "\n",
    "# Search for emails within the date range\n",
    "status, messages = mail.uid('search',None, f'(SINCE {start_date} BEFORE {end_date})')\n",
    "# status, messages = mail.search(None, f'SINCE \"{start_date}\"')\n",
    "# status, messages = mail.search(None, 'ALL')\n",
    "\n",
    "# sender_email = 'example@domain.com'\n",
    "# # Search for emails from a particular address between dates\n",
    "# search_criteria = f'(FROM \"{sender_email}\" SINCE \"{start_date}\" BEFORE \"{end_date}\")'\n",
    "# status, messages = mail.search(None, search_criteria)\n",
    "\n",
    "# Convert the message IDs to a list\n",
    "target_uids = messages[0].split()\n",
    "\n",
    "print(f\"Found {len(target_uids)} emails.\")\n"
   ]
  },
  {
   "cell_type": "code",
   "execution_count": null,
   "metadata": {},
   "outputs": [],
   "source": [
    "results=[]\n",
    "i=0\n",
    "for uid in target_uids:\n",
    "    i+=1\n",
    "    # UID FETCH command\n",
    "    status, data = mail.uid('fetch', uid, '(RFC822)')\n",
    "    if status == 'OK' and data != [None]:\n",
    "        r={}\n",
    "        # Parse email content\n",
    "        raw_email = data[0][1]\n",
    "        msg = email.message_from_bytes(raw_email)\n",
    "        sender=msg['From']\n",
    "        print(f\"\\n{i} UID: {uid}\")\n",
    "        print(f\"From: {sender}\")\n",
    "        \n",
    "        # Decode headers\n",
    "        subject, encoding = decode_header(msg['Subject'])[0]\n",
    "        if isinstance(subject, bytes):\n",
    "            try:\n",
    "                subject = subject.decode(encoding if encoding else 'utf-8')\n",
    "            except:\n",
    "                subject=\"Decoding Error\"        \n",
    "\n",
    "        print(f\"Subject: {subject}\")\n",
    "        \n",
    "        r[\"id\"]=uid\n",
    "        r[\"sender\"]=sender\n",
    "        r[\"subject\"]=subject\n",
    "        results.append(r)           \n",
    "\n",
    "    else:\n",
    "        print(f\"Email with UID {uid} not found\")"
   ]
  },
  {
   "cell_type": "code",
   "execution_count": null,
   "metadata": {},
   "outputs": [],
   "source": [
    "def get_email(str_sender):\n",
    "    pattern = re.compile(r'<(.*?)>')\n",
    "    match = re.search(pattern, str_sender)\n",
    "\n",
    "    if match:\n",
    "        # print(\"Found:\", match.group())\n",
    "        email=match.group(1)\n",
    "    else:\n",
    "        # print(\"Not found\")\n",
    "        email=\"NA\"   \n",
    "\n",
    "    sender, encoding = decode_header(str_sender)[0]\n",
    "    if isinstance(sender, bytes):\n",
    "        sender = sender.decode(encoding if encoding else 'utf-8')\n",
    "\n",
    "    return email,sender   "
   ]
  },
  {
   "cell_type": "code",
   "execution_count": null,
   "metadata": {},
   "outputs": [],
   "source": [
    "df=pd.DataFrame(results)\n",
    "df[[\"email\",\"sender\"]]=df.apply(lambda r:get_email(r['sender']),axis=1,result_type='expand')"
   ]
  },
  {
   "cell_type": "code",
   "execution_count": null,
   "metadata": {},
   "outputs": [],
   "source": [
    "df"
   ]
  },
  {
   "cell_type": "code",
   "execution_count": null,
   "metadata": {},
   "outputs": [],
   "source": [
    "list(df.email.unique())"
   ]
  },
  {
   "cell_type": "code",
   "execution_count": null,
   "metadata": {},
   "outputs": [],
   "source": [
    "dx=df.groupby(\"email\").count().reset_index().sort_values(by=\"sender\",ascending=True)\n",
    "dx"
   ]
  },
  {
   "cell_type": "code",
   "execution_count": null,
   "metadata": {},
   "outputs": [],
   "source": [
    "dx[dx.subject>3].email.values"
   ]
  },
  {
   "cell_type": "code",
   "execution_count": null,
   "metadata": {},
   "outputs": [],
   "source": [
    "f2=['temu@updates.temuofficial.com', \n",
    "       'r.moore@first.AmericanTruthCast.com', \n",
    "       'insight@the.paybackinvestigators.com',\n",
    "       'edmond.p@daily.smoothtradingarea.com',\n",
    "       'move@like.dealscatchers.com', \n",
    "       'news@tradelikegorillas.com',\n",
    "       'ruffus.white@net.richpeoplenetworks.com',\n",
    "       'raymondparks@tmp.titanmediapro.com', \n",
    "       'ae@e.ae.com',\n",
    "       'daily@news.greenforesttrading.com',\n",
    "       'daily@the.bankerbull.com', \n",
    "       'daily@blog.secretprofittools.com',\n",
    "       'day@s.longliveamerican.com', \n",
    "    #    'read@first.teamexpoexpert.com',\n",
    "       'peter.s@the.directionforexpo.com', \n",
    "       'daily@inside.greenforesttrading.com',\n",
    "       'l.barnett@wtf.wealthtimefuture.com',\n",
    "       'email@digital.conservativeintel.com', 'gain@the.olympinvests.com',\n",
    "       'hunter.wells@tip.profitabletradertips.com',\n",
    "       'check@tips.sportinvestorsleague.com',\n",
    "       'actual@Ii.investmentinnovate.com',\n",
    "       'editor@nowcc.notesonwealthcreation.com',\n",
    "       'editorial@wsi.wisetradeinvesting.com',\n",
    "       'news@fn.fin-kit.com',\n",
    "       'info@tfm.thefinancememories.com', \n",
    "       'news@daily.financiffy.com',\n",
    "       'mailing@ceg.certaineconomicgrowth.com',\n",
    "       'today@art.americansruletrading.com',\n",
    "       'daily@mcp.moderncryptoparadise.com',\n",
    "       'daily@d.tradetacticsnavigator.com',\n",
    "    #    'j.blume@mc.metaversecapitalists.com',\n",
    "       'news@from.thegreatassets.com', \n",
    "       'ronaldvin@a.capitaliststoday.com'],"
   ]
  },
  {
   "cell_type": "code",
   "execution_count": null,
   "metadata": {},
   "outputs": [],
   "source": [
    "f1=['walmartcustomerexperience@express10.medallia.com',\n",
    "    #    'fandango@movies.fandango.com',\n",
    "       'ftowdklvjeqagcszbymr@plugins.homemakingguide.com',\n",
    "       'gain@the.olympinvests.com', \n",
    "    #    'noreplyhr@fb.com',\n",
    "    #    'Costco@digital.costco.com', \n",
    "       'raymondparks@tmp.titanmediapro.com',\n",
    "       'read@first.teamexpoexpert.com',\n",
    "       'e-news@email.bayareanewsgroup.com',\n",
    "    #    'billpay@billpay.bankofamerica.com', \n",
    "    #    'no-reply@rentcafe.com',\n",
    "    #    'onlinebanking@ealerts.bankofamerica.com',\n",
    "    #    'store+28212789326@m.shopifyemail.com',\n",
    "    #    'hello@news.expressvpn.com', \n",
    "    #    'NA', \n",
    "    #    'palmia@legacypartners.com',\n",
    "       'editorial@wsi.wisetradeinvesting.com',\n",
    "    #    'groupupdates@facebookmail.com', \n",
    "       'me@jasongee.site',\n",
    "       'silhruettrgrzphsextup@plugins.homemakingguide.com',\n",
    "       'contact@masterclassjournal.com',\n",
    "       'notifications@d.lavendercollab.com', \n",
    "       'humble@pobriar.com',\n",
    "       'kent.harper@news.theinvestingbox.com',\n",
    "       'cutleryandmore@cutleryandmore.com', \n",
    "       'contact@lectricebikes.com',\n",
    "       'trivia@mail.wordstrivia.com',\n",
    "       'just@info.globalfinancechanges.com',\n",
    "       'global@news.takeprofitalerts.com',\n",
    "       'email@the.deliciousinvesting.com', \n",
    "       'reply-to@e.digikey.com',\n",
    "    #    'hongxiachen@hotmail.com', \n",
    "       'p.lynch@hmg.honeymoneygazette.com',\n",
    "       'daily@the.bankerbull.com', \n",
    "       'news@s.stripesandstarsnews.com',\n",
    "       'mylife@mail.mylife.com', \n",
    "       'marketing@emails.hertz.com',\n",
    "       'move@like.dealscatchers.com',\n",
    "    #    'j.blume@mc.metaversecapitalists.com',\n",
    "       'from@global.investingcongress.com',\n",
    "       'editor@star.starinvestingship.com',\n",
    "       't.killian@sotmm.sharksofthemarket.com']"
   ]
  },
  {
   "cell_type": "code",
   "execution_count": null,
   "metadata": {},
   "outputs": [],
   "source": [
    "\n",
    "email_to_delete=f1+['blog.secretprofittools.com','pro.milkymoneyway.com','ldii.longdistanceinvestings.com','first.AmericanTruthCast.com','today.investingwithmind.com','day.usastocksinsider.com',\"best.marketexpopro.com\",'net.richpeoplenetworks.com','fin.finacetechfuture.com','editor@nowcc.notesonwealthcreation.com','prisintol.com','tfm.thefinancememories.com','today.investingwithmind.com','ucc.urbancapitalist.com','digest.marketbroadview.com','tips.sportinvestorsleague.com','cottonbubblelay.com','deals@deals.vegas.com','find@via.healthyinvestingtips.com','webinar@newsletters.techonline.com','l.barnett@wtf.wealthtimefuture.com','get@real.multitradersmoves.com','mailing@ceg.certaineconomicgrowth.com','temu@updates.temuofficial.com','strategy@insights.FinancesDataDriven.com','ruffus.white@net.richpeoplenetworks.com','with@top.goldmineadvisors.com','your@very.smartsuccessstrategy.com','news@daily.investmentjourneys.com','check@tips.sportinvestorsleague.com','daily@digest.marketbroadview.com','q.hayes@choice.besttoinvestnews.com','news@daily.financiffy.com','daily@blog.secretprofittools.com','mail@your.usagoldmiracle.com','the.directionforexpo.com','daily@digest.marketbroadview.com']\n"
   ]
  },
  {
   "cell_type": "code",
   "execution_count": null,
   "metadata": {},
   "outputs": [],
   "source": [
    "subject_to_delete =['David Kant','FunWords Team','richard grant','stockpile saving','satelite earnings now','this token could','David Kant','Nextdish','hotels.com', 'Matthew Wehner','Elizabeth Harris', 'Trump','David Kant','Part-Time Work','Investors League','MileagePlus Partner','Russia in Shock','woot.com','Christopher Johnson','Tax-Free Cash Hack']"
   ]
  },
  {
   "cell_type": "code",
   "execution_count": null,
   "metadata": {},
   "outputs": [],
   "source": [
    "pattern1 = '|'.join(subject_to_delete)\n",
    "pattern2 = '|'.join(email_to_delete)"
   ]
  },
  {
   "cell_type": "code",
   "execution_count": null,
   "metadata": {},
   "outputs": [],
   "source": [
    "\n",
    "dz=df[(df.sender.str.contains(pattern1, case=False)) | (df.email.str.contains(pattern2, case=False))]"
   ]
  },
  {
   "cell_type": "code",
   "execution_count": null,
   "metadata": {},
   "outputs": [],
   "source": [
    "dz"
   ]
  },
  {
   "cell_type": "code",
   "execution_count": null,
   "metadata": {},
   "outputs": [],
   "source": [
    "uids_to_delete=list(dz.id.unique())\n",
    "uids_to_delete, len(uids_to_delete)"
   ]
  },
  {
   "cell_type": "code",
   "execution_count": null,
   "metadata": {},
   "outputs": [],
   "source": [
    "# Delete emails\n",
    "for uid in uids_to_delete:\n",
    "    print(uid)\n",
    "    try:\n",
    "        status, response = mail.uid('store', uid, '+FLAGS', '\\\\Deleted')\n",
    "        print(f\"Delete status: {status}, Response: {response}\")\n",
    "    except:\n",
    "        print(uid,\"not working\")\n",
    "        \n",
    "# Expunge deleted emails\n",
    "mail.expunge()"
   ]
  },
  {
   "cell_type": "code",
   "execution_count": null,
   "metadata": {},
   "outputs": [],
   "source": [
    "\n",
    "# Close connection\n",
    "mail.close()\n",
    "mail.logout()"
   ]
  },
  {
   "cell_type": "code",
   "execution_count": null,
   "metadata": {},
   "outputs": [],
   "source": []
  }
 ],
 "metadata": {
  "kernelspec": {
   "display_name": ".venv",
   "language": "python",
   "name": "python3"
  },
  "language_info": {
   "codemirror_mode": {
    "name": "ipython",
    "version": 3
   },
   "file_extension": ".py",
   "mimetype": "text/x-python",
   "name": "python",
   "nbconvert_exporter": "python",
   "pygments_lexer": "ipython3",
   "version": "3.13.2"
  }
 },
 "nbformat": 4,
 "nbformat_minor": 2
}
