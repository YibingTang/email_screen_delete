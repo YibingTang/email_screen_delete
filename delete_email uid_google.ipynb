{
 "cells": [
  {
   "cell_type": "code",
   "execution_count": 1,
   "metadata": {},
   "outputs": [],
   "source": [
    "# verified on 2/16/2025\n",
    "# format of pass.txt\n",
    "\"\"\"\n",
    "google:your_email@gmail.com:your_google_app_password\n",
    "yahoo:your_email@yahoo.com:your_yahoo_app_password\n",
    "\"\"\";"
   ]
  },
  {
   "cell_type": "code",
   "execution_count": 2,
   "metadata": {},
   "outputs": [],
   "source": [
    "import imaplib\n",
    "import email\n",
    "from email.header import decode_header\n",
    "import pandas as pd\n",
    "import re\n",
    "\n",
    "# Yahoo IMAP settings\n",
    "IMAP_SERVER = 'imap.gmail.com'\n",
    "IMAP_PORT = 993\n",
    "# EMAIL = 'your_email@gmail.com'\n",
    "# PASSWORD = 'APP_password'\n",
    "\n",
    "with open('pass.txt') as fin:\n",
    "    strs=fin.readlines()\n",
    "for s in strs:\n",
    "    if s.split(\":\")[0]=='google':\n",
    "        EMAIL=s.split(\":\")[1].strip()\n",
    "        PASSWORD=s.split(\":\")[-1].strip()\n",
    "# EMAIL,PASSWORD    "
   ]
  },
  {
   "cell_type": "code",
   "execution_count": 3,
   "metadata": {},
   "outputs": [],
   "source": [
    "# Connect to the server\n",
    "mail = imaplib.IMAP4_SSL(IMAP_SERVER, IMAP_PORT)\n",
    "mail.login(EMAIL, PASSWORD)\n",
    "\n",
    "MAILBOX='INBOX'\n",
    "\n",
    "status, _ = mail.select(MAILBOX)\n",
    "if status != 'OK':\n",
    "    print(f\"Failed to select mailbox: {MAILBOX}\")"
   ]
  },
  {
   "cell_type": "code",
   "execution_count": 4,
   "metadata": {},
   "outputs": [],
   "source": [
    "# status, validity_data = mail.status(MAILBOX, ['UIDVALIDITY'])\n",
    "# uid_validity = validity_data[0].split()[2].decode('utf-8').strip(']')\n",
    "# print(f\"Current UIDVALIDITY: {uid_validity}\")"
   ]
  },
  {
   "cell_type": "code",
   "execution_count": 5,
   "metadata": {},
   "outputs": [
    {
     "name": "stdout",
     "output_type": "stream",
     "text": [
      "Found 10 emails.\n"
     ]
    }
   ],
   "source": [
    "start_date = '17-Feb-2025'\n",
    "end_date = '18-Feb-2025'\n",
    "\n",
    "search_criteria=f'(SINCE {start_date} BEFORE {end_date})'\n",
    "search_criteria=f'(SINCE {start_date})'\n",
    "\n",
    "# Search for emails within the date range\n",
    "status, messages = mail.uid('search',None, search_criteria)\n",
    "# status, messages = mail.search(None, f'SINCE \"{start_date}\"')\n",
    "# status, messages = mail.search(None, 'ALL')\n",
    "\n",
    "# sender_email = 'example@domain.com'\n",
    "# search_criteria = f'(FROM \"{sender_email}\" SINCE \"{start_date}\" BEFORE \"{end_date}\")'\n",
    "\n",
    "# Convert the message IDs to a list\n",
    "target_uids = messages[0].split()\n",
    "\n",
    "print(f\"Found {len(target_uids)} emails.\")\n"
   ]
  },
  {
   "cell_type": "code",
   "execution_count": 6,
   "metadata": {},
   "outputs": [
    {
     "name": "stdout",
     "output_type": "stream",
     "text": [
      "\n",
      "1 UID: b'58644'\n",
      "From: Evelyn Lee <wuxuexiaojie000@gmail.com>\n",
      "Subject: \n",
      "\n",
      "2 UID: b'58645'\n",
      "From: LinkedIn <jobs-listings@linkedin.com>\n",
      "Subject: Senior Principal Signal Integrity Engineer role at Dell and other\n",
      " opportunities open\n",
      "\n",
      "3 UID: b'58646'\n",
      "From: LinkedIn Job Alerts <jobalerts-noreply@linkedin.com>\n",
      "Subject: “senior hardware engineer”: Amaze Systems - Senior Digital Hardware Engineer and more\n",
      "\n",
      "4 UID: b'58647'\n",
      "From: LinkedIn <jobs-noreply@linkedin.com>\n",
      "Subject: Yibing, apply to Senior Optical MSDV Hardware Engineer at NVIDIA\n",
      " and more\n",
      "\n",
      "5 UID: b'58649'\n",
      "From: LinkedIn <updates-noreply@linkedin.com>\n",
      "Subject: Zhenxing (Jason) Wang posted: It was a highly productive conference with impressive progress on 1600ZR/ZR+ pr... 💡\n",
      "\n",
      "6 UID: b'58652'\n",
      "From: LinkedIn <notifications-noreply@linkedin.com>\n",
      "Subject: Henry Duong and 4 others commented on your work anniversary\n",
      "\n",
      "7 UID: b'58653'\n",
      "From: LinkedIn <messages-noreply@linkedin.com>\n",
      "Subject: Yibing, add Rommel Mercado - Product Safety Engineer\n",
      "\n",
      "8 UID: b'58654'\n",
      "From: IDX Team <IDX-noreply@google.com>\n",
      "Subject: Mike, welcome to Project IDX\n",
      "\n",
      "9 UID: b'58655'\n",
      "From: EDN Design Ideas <designideas@newsletters.edn.com>\n",
      "Subject: Tek 576 curve tracer adapters, Flip ON Flop OFF, Programmable\n",
      " rheostat\n",
      "\n",
      "10 UID: b'58656'\n",
      "From: Medium Daily Digest <noreply@medium.com>\n",
      "Subject: What’s\n"
     ]
    }
   ],
   "source": [
    "results=[]\n",
    "i=0\n",
    "for uid in target_uids:\n",
    "    i+=1\n",
    "    # UID FETCH command\n",
    "    status, data = mail.uid('fetch', uid, '(RFC822)')\n",
    "    if status == 'OK' and data != [None]:\n",
    "        r={}\n",
    "        # Parse email content\n",
    "        raw_email = data[0][1]\n",
    "        msg = email.message_from_bytes(raw_email)\n",
    "        sender=msg['From']\n",
    "        print(f\"\\n{i} UID: {uid}\")\n",
    "        print(f\"From: {sender}\")\n",
    "        \n",
    "        # Decode headers\n",
    "        subject, encoding = decode_header(msg['Subject'])[0]\n",
    "        if isinstance(subject, bytes):\n",
    "            try:\n",
    "                subject = subject.decode(encoding if encoding else 'utf-8')\n",
    "            except:\n",
    "                subject=\"Decoding Error\"        \n",
    "\n",
    "        print(f\"Subject: {subject}\")\n",
    "        \n",
    "        r[\"id\"]=uid\n",
    "        r[\"sender\"]=sender\n",
    "        r[\"subject\"]=subject\n",
    "        results.append(r)           \n",
    "\n",
    "    else:\n",
    "        print(f\"Email with UID {uid} not found\")"
   ]
  },
  {
   "cell_type": "code",
   "execution_count": 7,
   "metadata": {},
   "outputs": [],
   "source": [
    "def get_email(str_sender):\n",
    "    pattern = re.compile(r'<(.*?)>')\n",
    "    match = re.search(pattern, str_sender)\n",
    "\n",
    "    if match:\n",
    "        # print(\"Found:\", match.group())\n",
    "        email=match.group(1)\n",
    "    else:\n",
    "        # print(\"Not found\")\n",
    "        email=\"NA\"   \n",
    "\n",
    "    sender, encoding = decode_header(str_sender)[0]\n",
    "    if isinstance(sender, bytes):\n",
    "        sender = sender.decode(encoding if encoding else 'utf-8')\n",
    "\n",
    "    return email,sender   "
   ]
  },
  {
   "cell_type": "code",
   "execution_count": 8,
   "metadata": {},
   "outputs": [],
   "source": [
    "df=pd.DataFrame(results)\n",
    "df[[\"email\",\"sender\"]]=df.apply(lambda r:get_email(r['sender']),axis=1,result_type='expand')"
   ]
  },
  {
   "cell_type": "code",
   "execution_count": 9,
   "metadata": {},
   "outputs": [
    {
     "data": {
      "text/html": [
       "<div>\n",
       "<style scoped>\n",
       "    .dataframe tbody tr th:only-of-type {\n",
       "        vertical-align: middle;\n",
       "    }\n",
       "\n",
       "    .dataframe tbody tr th {\n",
       "        vertical-align: top;\n",
       "    }\n",
       "\n",
       "    .dataframe thead th {\n",
       "        text-align: right;\n",
       "    }\n",
       "</style>\n",
       "<table border=\"1\" class=\"dataframe\">\n",
       "  <thead>\n",
       "    <tr style=\"text-align: right;\">\n",
       "      <th></th>\n",
       "      <th>id</th>\n",
       "      <th>sender</th>\n",
       "      <th>subject</th>\n",
       "      <th>email</th>\n",
       "    </tr>\n",
       "  </thead>\n",
       "  <tbody>\n",
       "    <tr>\n",
       "      <th>0</th>\n",
       "      <td>b'58644'</td>\n",
       "      <td>Evelyn Lee &lt;wuxuexiaojie000@gmail.com&gt;</td>\n",
       "      <td></td>\n",
       "      <td>wuxuexiaojie000@gmail.com</td>\n",
       "    </tr>\n",
       "    <tr>\n",
       "      <th>1</th>\n",
       "      <td>b'58645'</td>\n",
       "      <td>LinkedIn &lt;jobs-listings@linkedin.com&gt;</td>\n",
       "      <td>Senior Principal Signal Integrity Engineer rol...</td>\n",
       "      <td>jobs-listings@linkedin.com</td>\n",
       "    </tr>\n",
       "    <tr>\n",
       "      <th>2</th>\n",
       "      <td>b'58646'</td>\n",
       "      <td>LinkedIn Job Alerts &lt;jobalerts-noreply@linkedi...</td>\n",
       "      <td>“senior hardware engineer”: Amaze Systems - Se...</td>\n",
       "      <td>jobalerts-noreply@linkedin.com</td>\n",
       "    </tr>\n",
       "    <tr>\n",
       "      <th>3</th>\n",
       "      <td>b'58647'</td>\n",
       "      <td>LinkedIn &lt;jobs-noreply@linkedin.com&gt;</td>\n",
       "      <td>Yibing, apply to Senior Optical MSDV Hardware ...</td>\n",
       "      <td>jobs-noreply@linkedin.com</td>\n",
       "    </tr>\n",
       "    <tr>\n",
       "      <th>4</th>\n",
       "      <td>b'58649'</td>\n",
       "      <td>LinkedIn &lt;updates-noreply@linkedin.com&gt;</td>\n",
       "      <td>Zhenxing (Jason) Wang posted: It was a highly ...</td>\n",
       "      <td>updates-noreply@linkedin.com</td>\n",
       "    </tr>\n",
       "  </tbody>\n",
       "</table>\n",
       "</div>"
      ],
      "text/plain": [
       "         id                                             sender  \\\n",
       "0  b'58644'             Evelyn Lee <wuxuexiaojie000@gmail.com>   \n",
       "1  b'58645'              LinkedIn <jobs-listings@linkedin.com>   \n",
       "2  b'58646'  LinkedIn Job Alerts <jobalerts-noreply@linkedi...   \n",
       "3  b'58647'               LinkedIn <jobs-noreply@linkedin.com>   \n",
       "4  b'58649'            LinkedIn <updates-noreply@linkedin.com>   \n",
       "\n",
       "                                             subject  \\\n",
       "0                                                      \n",
       "1  Senior Principal Signal Integrity Engineer rol...   \n",
       "2  “senior hardware engineer”: Amaze Systems - Se...   \n",
       "3  Yibing, apply to Senior Optical MSDV Hardware ...   \n",
       "4  Zhenxing (Jason) Wang posted: It was a highly ...   \n",
       "\n",
       "                            email  \n",
       "0       wuxuexiaojie000@gmail.com  \n",
       "1      jobs-listings@linkedin.com  \n",
       "2  jobalerts-noreply@linkedin.com  \n",
       "3       jobs-noreply@linkedin.com  \n",
       "4    updates-noreply@linkedin.com  "
      ]
     },
     "execution_count": 9,
     "metadata": {},
     "output_type": "execute_result"
    }
   ],
   "source": [
    "df.head()"
   ]
  },
  {
   "cell_type": "code",
   "execution_count": 10,
   "metadata": {},
   "outputs": [
    {
     "data": {
      "text/html": [
       "<div>\n",
       "<style scoped>\n",
       "    .dataframe tbody tr th:only-of-type {\n",
       "        vertical-align: middle;\n",
       "    }\n",
       "\n",
       "    .dataframe tbody tr th {\n",
       "        vertical-align: top;\n",
       "    }\n",
       "\n",
       "    .dataframe thead th {\n",
       "        text-align: right;\n",
       "    }\n",
       "</style>\n",
       "<table border=\"1\" class=\"dataframe\">\n",
       "  <thead>\n",
       "    <tr style=\"text-align: right;\">\n",
       "      <th></th>\n",
       "      <th>email</th>\n",
       "      <th>id</th>\n",
       "      <th>sender</th>\n",
       "      <th>subject</th>\n",
       "    </tr>\n",
       "  </thead>\n",
       "  <tbody>\n",
       "    <tr>\n",
       "      <th>5</th>\n",
       "      <td>messages-noreply@linkedin.com</td>\n",
       "      <td>1</td>\n",
       "      <td>1</td>\n",
       "      <td>1</td>\n",
       "    </tr>\n",
       "    <tr>\n",
       "      <th>6</th>\n",
       "      <td>noreply@medium.com</td>\n",
       "      <td>1</td>\n",
       "      <td>1</td>\n",
       "      <td>1</td>\n",
       "    </tr>\n",
       "    <tr>\n",
       "      <th>7</th>\n",
       "      <td>notifications-noreply@linkedin.com</td>\n",
       "      <td>1</td>\n",
       "      <td>1</td>\n",
       "      <td>1</td>\n",
       "    </tr>\n",
       "    <tr>\n",
       "      <th>8</th>\n",
       "      <td>updates-noreply@linkedin.com</td>\n",
       "      <td>1</td>\n",
       "      <td>1</td>\n",
       "      <td>1</td>\n",
       "    </tr>\n",
       "    <tr>\n",
       "      <th>9</th>\n",
       "      <td>wuxuexiaojie000@gmail.com</td>\n",
       "      <td>1</td>\n",
       "      <td>1</td>\n",
       "      <td>1</td>\n",
       "    </tr>\n",
       "  </tbody>\n",
       "</table>\n",
       "</div>"
      ],
      "text/plain": [
       "                                email  id  sender  subject\n",
       "5       messages-noreply@linkedin.com   1       1        1\n",
       "6                  noreply@medium.com   1       1        1\n",
       "7  notifications-noreply@linkedin.com   1       1        1\n",
       "8        updates-noreply@linkedin.com   1       1        1\n",
       "9           wuxuexiaojie000@gmail.com   1       1        1"
      ]
     },
     "execution_count": 10,
     "metadata": {},
     "output_type": "execute_result"
    }
   ],
   "source": [
    "dx=df.groupby(\"email\").count().reset_index().sort_values(by=\"sender\",ascending=True)\n",
    "dx.tail()"
   ]
  },
  {
   "cell_type": "code",
   "execution_count": 11,
   "metadata": {},
   "outputs": [
    {
     "data": {
      "text/plain": [
       "['wuxuexiaojie000@gmail.com',\n",
       " 'updates-noreply@linkedin.com',\n",
       " 'notifications-noreply@linkedin.com',\n",
       " 'noreply@medium.com',\n",
       " 'messages-noreply@linkedin.com',\n",
       " 'jobs-noreply@linkedin.com',\n",
       " 'jobs-listings@linkedin.com',\n",
       " 'jobalerts-noreply@linkedin.com',\n",
       " 'designideas@newsletters.edn.com',\n",
       " 'IDX-noreply@google.com']"
      ]
     },
     "execution_count": 11,
     "metadata": {},
     "output_type": "execute_result"
    }
   ],
   "source": [
    "list(dx.email.sort_values(ascending=False).values)"
   ]
  },
  {
   "cell_type": "code",
   "execution_count": 12,
   "metadata": {},
   "outputs": [],
   "source": [
    "f1=['zmail@mail.zillow.com',\n",
    "    'outreach.senate.ca.gov',\n",
    "    'insideapple.apple.com',\n",
    "    'medium.com',\n",
    "    'newsletters.edn.com',\n",
    "    'noreply@uber.com',\n",
    "#  'yibingtang@meta.com',\n",
    "#  'ybtang02@yahoo.com',\n",
    " 'weekinreview@newsletters.eetimes.com',\n",
    " 'webinar@newsletters.techonline.com',\n",
    " 'vtgmail@list.vacationstogo.com',\n",
    "#  'vimeo@vimeo.com',\n",
    " 'vacationdeals@blgrnvacations.com',\n",
    " 'updates@send-p.usnews.com',\n",
    "#  'updates-noreply@linkedin.com',\n",
    "#  'uber@uber.com',\n",
    " 'ttsmarketplace@email.tiktok.com',\n",
    " 'techpaper@newsletters.techonline.com',\n",
    " 'survey@merewards.sg',\n",
    " 'support@sc.mail.deepseek.com',\n",
    " 'shelbysilva-silvacooptics.com@shared1.ccsend.com',\n",
    " 'shein@usmail.shein.com',\n",
    "#  'security@facebookmail.com',\n",
    "#  'sam.glorit_x@etched.com',\n",
    "#  'rineyprasanth@gmail.com',\n",
    " 'redlobsteremail@em.redlobster.com',\n",
    "#  'pge@email.opower.com',\n",
    " 'open-houses@mail.zillow.com',\n",
    "#  'notifications-noreply@linkedin.com',\n",
    "#  'noreply@uber.com',\n",
    "#  'noreply@em.pge.com',\n",
    "#  'no_reply@post.applecard.apple',\n",
    "#  'no_reply@email.apple.com',\n",
    "#  'no-reply@em-s.dropbox.com',\n",
    "#  'no-reply@accounts.google.com',\n",
    " 'newsletters@e.consumeraffairs.com',\n",
    "#  'newsletters-noreply@linkedin.com',\n",
    " 'newsletter@email.kqed.org',\n",
    " 'newsletter@divenewsletter.com',\n",
    " 'mouser@info.techonline-direct.com',\n",
    "#  'messaging-digest-noreply@linkedin.com',\n",
    "#  'messages-noreply@linkedin.com',\n",
    " 'members@m.consumeraffairs.com',\n",
    " 'members@e.consumeraffairs.com',\n",
    " 'member@email.kqed.org',\n",
    " 'marketing@thesamragroup.ccsend.com',\n",
    " 'mail@mail.adobe.com',\n",
    " 'mail@eg.hotels.com',\n",
    " 'mail@eg.expedia.com',\n",
    "#  'magloirevishaal@gmail.com',\n",
    "#  'linkedin@e.linkedin.com',\n",
    "#  'jobs-noreply@linkedin.com',\n",
    "#  'jobs-listings@linkedin.com',\n",
    "#  'jobalerts-noreply@linkedin.com',\n",
    "#  'invitations@linkedin.com',\n",
    " 'instant-updates@mail.zillow.com',\n",
    "#  'inmail-hit-reply@linkedin.com',\n",
    " 'info@e.ubm-info.net',\n",
    " 'iheartradio@listen.iheart.com',\n",
    "#  'icloudplus@insideapple.apple.com',\n",
    "#  'hit-reply@linkedin.com',\n",
    " 'hello@mkt.getyourguide.com',\n",
    " 'hello@mail.grammarly.com',\n",
    "#  'groups-noreply@linkedin.com',\n",
    " 'funfriday@newsletters.edn.com',\n",
    " 'email@market.temuemail.com',\n",
    "#  'editors-noreply@linkedin.com',\n",
    "#  'developer@insideapple.apple.com',\n",
    " 'delights@enews.merewards.sg',\n",
    " 'club@castellodiamorosa.com',\n",
    " 'cameronhart@silvacooptics.ccsend.com',\n",
    " 'audiexperience@e.audiusa.com',\n",
    "#  'appstore@insideapple.apple.com',\n",
    "#  'appletv@insideapple.apple.com',\n",
    "#  'applepay@insideapple.apple.com',\n",
    "#  'applenewsplus@insideapple.apple.com',\n",
    "#  'applemusic@insideapple.apple.com',\n",
    "#  'applefitnessplus@insideapple.apple.com',\n",
    "#  'applearcade@insideapple.apple.com',\n",
    " 'SouthwestAirlines@iluv.southwest.com',\n",
    "#  'RepRoKhanna@mail.house.gov',\n",
    "#  'RapidRewards@pts.southwest.com',\n",
    "#  'PGECustomerService@notifications.pge.com',\n",
    " 'Nixplay@marketing.nixplay.com',\n",
    "#  'NA',\n",
    "#  'DoNotReply@qooway.com',\n",
    "#  'Costco@digital.costco.com'\n",
    " ]"
   ]
  },
  {
   "cell_type": "code",
   "execution_count": 13,
   "metadata": {},
   "outputs": [
    {
     "data": {
      "text/plain": [
       "array([], dtype=object)"
      ]
     },
     "execution_count": 13,
     "metadata": {},
     "output_type": "execute_result"
    }
   ],
   "source": [
    "dx[dx.subject>3].email.values"
   ]
  },
  {
   "cell_type": "code",
   "execution_count": 14,
   "metadata": {},
   "outputs": [],
   "source": [
    "email_to_delete=f1+['blog.secretprofittools.com','pro.milkymoneyway.com','ldii.longdistanceinvestings.com','first.AmericanTruthCast.com','today.investingwithmind.com','day.usastocksinsider.com',\"best.marketexpopro.com\",'net.richpeoplenetworks.com','fin.finacetechfuture.com','editor@nowcc.notesonwealthcreation.com','prisintol.com','tfm.thefinancememories.com','today.investingwithmind.com','ucc.urbancapitalist.com','digest.marketbroadview.com','tips.sportinvestorsleague.com','cottonbubblelay.com','deals@deals.vegas.com','find@via.healthyinvestingtips.com','webinar@newsletters.techonline.com','l.barnett@wtf.wealthtimefuture.com','get@real.multitradersmoves.com','mailing@ceg.certaineconomicgrowth.com','temu@updates.temuofficial.com','strategy@insights.FinancesDataDriven.com','ruffus.white@net.richpeoplenetworks.com','with@top.goldmineadvisors.com','your@very.smartsuccessstrategy.com','news@daily.investmentjourneys.com','check@tips.sportinvestorsleague.com','daily@digest.marketbroadview.com','q.hayes@choice.besttoinvestnews.com','news@daily.financiffy.com','daily@blog.secretprofittools.com','mail@your.usagoldmiracle.com','the.directionforexpo.com','daily@digest.marketbroadview.com']"
   ]
  },
  {
   "cell_type": "code",
   "execution_count": 15,
   "metadata": {},
   "outputs": [],
   "source": [
    "subject_to_delete =['David Kant','FunWords Team','richard grant','stockpile saving','satelite earnings now','this token could','David Kant','Nextdish','hotels.com', 'Matthew Wehner','Elizabeth Harris', 'Trump','David Kant','Part-Time Work','Investors League','MileagePlus Partner','Russia in Shock','woot.com','Christopher Johnson','Tax-Free Cash Hack']"
   ]
  },
  {
   "cell_type": "code",
   "execution_count": 16,
   "metadata": {},
   "outputs": [],
   "source": [
    "pattern1 = '|'.join(subject_to_delete)\n",
    "pattern2 = '|'.join(email_to_delete)"
   ]
  },
  {
   "cell_type": "code",
   "execution_count": 17,
   "metadata": {},
   "outputs": [],
   "source": [
    "\n",
    "dz=df[(df.sender.str.contains(pattern1, case=False)) | (df.email.str.contains(pattern2, case=False))]"
   ]
  },
  {
   "cell_type": "code",
   "execution_count": 18,
   "metadata": {},
   "outputs": [
    {
     "data": {
      "text/html": [
       "<div>\n",
       "<style scoped>\n",
       "    .dataframe tbody tr th:only-of-type {\n",
       "        vertical-align: middle;\n",
       "    }\n",
       "\n",
       "    .dataframe tbody tr th {\n",
       "        vertical-align: top;\n",
       "    }\n",
       "\n",
       "    .dataframe thead th {\n",
       "        text-align: right;\n",
       "    }\n",
       "</style>\n",
       "<table border=\"1\" class=\"dataframe\">\n",
       "  <thead>\n",
       "    <tr style=\"text-align: right;\">\n",
       "      <th></th>\n",
       "      <th>id</th>\n",
       "      <th>sender</th>\n",
       "      <th>subject</th>\n",
       "      <th>email</th>\n",
       "    </tr>\n",
       "  </thead>\n",
       "  <tbody>\n",
       "    <tr>\n",
       "      <th>8</th>\n",
       "      <td>b'58655'</td>\n",
       "      <td>EDN Design Ideas &lt;designideas@newsletters.edn....</td>\n",
       "      <td>Tek 576 curve tracer adapters, Flip ON Flop OF...</td>\n",
       "      <td>designideas@newsletters.edn.com</td>\n",
       "    </tr>\n",
       "    <tr>\n",
       "      <th>9</th>\n",
       "      <td>b'58656'</td>\n",
       "      <td>Medium Daily Digest &lt;noreply@medium.com&gt;</td>\n",
       "      <td>What’s</td>\n",
       "      <td>noreply@medium.com</td>\n",
       "    </tr>\n",
       "  </tbody>\n",
       "</table>\n",
       "</div>"
      ],
      "text/plain": [
       "         id                                             sender  \\\n",
       "8  b'58655'  EDN Design Ideas <designideas@newsletters.edn....   \n",
       "9  b'58656'           Medium Daily Digest <noreply@medium.com>   \n",
       "\n",
       "                                             subject  \\\n",
       "8  Tek 576 curve tracer adapters, Flip ON Flop OF...   \n",
       "9                                             What’s   \n",
       "\n",
       "                             email  \n",
       "8  designideas@newsletters.edn.com  \n",
       "9               noreply@medium.com  "
      ]
     },
     "execution_count": 18,
     "metadata": {},
     "output_type": "execute_result"
    }
   ],
   "source": [
    "dz"
   ]
  },
  {
   "cell_type": "code",
   "execution_count": 19,
   "metadata": {},
   "outputs": [
    {
     "data": {
      "text/plain": [
       "([b'58655', b'58656'], 2)"
      ]
     },
     "execution_count": 19,
     "metadata": {},
     "output_type": "execute_result"
    }
   ],
   "source": [
    "uids_to_delete=list(dz.id.unique())\n",
    "uids_to_delete, len(uids_to_delete)"
   ]
  },
  {
   "cell_type": "code",
   "execution_count": 20,
   "metadata": {},
   "outputs": [
    {
     "name": "stdout",
     "output_type": "stream",
     "text": [
      "1 b'58655'\n",
      "Delete status: OK, Response: [b'40612 (FLAGS (\\\\Seen \\\\Deleted) UID 58655)']\n",
      "2 b'58656'\n",
      "Delete status: OK, Response: [b'40612 (FLAGS (\\\\Seen \\\\Deleted) UID 58656)']\n"
     ]
    },
    {
     "data": {
      "text/plain": [
       "('OK', [b'40612', b'40612'])"
      ]
     },
     "execution_count": 20,
     "metadata": {},
     "output_type": "execute_result"
    }
   ],
   "source": [
    "# Delete emails\n",
    "i=0\n",
    "for uid in uids_to_delete:\n",
    "    i+=1\n",
    "    print(i,uid)\n",
    "    try:\n",
    "        status, response = mail.uid('store', uid, '+FLAGS', '\\\\Deleted')\n",
    "        print(f\"Delete status: {status}, Response: {response}\")\n",
    "    except:\n",
    "        print(uid,\"not working\")\n",
    "        \n",
    "# Expunge deleted emails\n",
    "mail.expunge()"
   ]
  },
  {
   "cell_type": "code",
   "execution_count": 21,
   "metadata": {},
   "outputs": [
    {
     "data": {
      "text/plain": [
       "('BYE', [b'LOGOUT Requested'])"
      ]
     },
     "execution_count": 21,
     "metadata": {},
     "output_type": "execute_result"
    }
   ],
   "source": [
    "\n",
    "# Close connection\n",
    "mail.close()\n",
    "mail.logout()"
   ]
  },
  {
   "cell_type": "code",
   "execution_count": null,
   "metadata": {},
   "outputs": [],
   "source": []
  }
 ],
 "metadata": {
  "kernelspec": {
   "display_name": ".venv",
   "language": "python",
   "name": "python3"
  },
  "language_info": {
   "codemirror_mode": {
    "name": "ipython",
    "version": 3
   },
   "file_extension": ".py",
   "mimetype": "text/x-python",
   "name": "python",
   "nbconvert_exporter": "python",
   "pygments_lexer": "ipython3",
   "version": "3.13.2"
  }
 },
 "nbformat": 4,
 "nbformat_minor": 2
}
